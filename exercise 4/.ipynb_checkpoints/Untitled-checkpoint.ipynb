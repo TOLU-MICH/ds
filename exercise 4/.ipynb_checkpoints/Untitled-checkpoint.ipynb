{
 "cells": [
  {
   "cell_type": "code",
   "execution_count": 26,
   "id": "a87306bc-560e-421e-98b5-9bdbc1f5e157",
   "metadata": {},
   "outputs": [
    {
     "data": {
      "text/plain": [
       "Glucose            5\n",
       "BloodPressure     35\n",
       "SkinThickness    227\n",
       "Insulin          374\n",
       "BMI               11\n",
       "dtype: int64"
      ]
     },
     "execution_count": 26,
     "metadata": {},
     "output_type": "execute_result"
    }
   ],
   "source": [
    "import pandas as pd\n",
    "import matplotlib.pyplot as plt\n",
    "\n",
    "df=pd.read_csv('diabetes.csv')\n",
    "df.isnull().sum()\n",
    "df.describe()\n",
    "(df[['Glucose', 'BloodPressure', 'SkinThickness', 'Insulin', 'BMI']] == 0).sum()\n",
    "\n",
    "# df[['Glucose', 'BloodPressure', 'SkinThickness', 'Insulin', 'BMI']].hist(figsize=(10, 8))\n",
    "# plt.show()\n",
    "\n"
   ]
  },
  {
   "cell_type": "code",
   "execution_count": 25,
   "id": "5838059b-51d3-488c-a73c-509b84be643a",
   "metadata": {},
   "outputs": [],
   "source": [
    "for column in ['Glucose', 'BloodPressure', 'SkinThickness', 'Insulin', 'BMI']:\n",
    "    df[column].replace(0, df[column].median(), inplace=True)"
   ]
  },
  {
   "cell_type": "code",
   "execution_count": 27,
   "id": "6fe78204-d561-450d-a930-8675d1eb822f",
   "metadata": {},
   "outputs": [
    {
     "data": {
      "text/plain": [
       "Glucose            5\n",
       "BloodPressure     35\n",
       "SkinThickness    227\n",
       "Insulin          374\n",
       "BMI               11\n",
       "dtype: int64"
      ]
     },
     "execution_count": 27,
     "metadata": {},
     "output_type": "execute_result"
    }
   ],
   "source": [
    "(df[['Glucose', 'BloodPressure', 'SkinThickness', 'Insulin', 'BMI']] == 0).sum()"
   ]
  },
  {
   "cell_type": "code",
   "execution_count": 29,
   "id": "8fef479f-4748-4d99-9d48-3a823232b44e",
   "metadata": {},
   "outputs": [
    {
     "name": "stdout",
     "output_type": "stream",
     "text": [
      "Number of times pregnant      0\n",
      "Glucose                       0\n",
      "BloodPressure                 0\n",
      "SkinThickness                 0\n",
      "Insulin                       0\n",
      "BMI                           0\n",
      "Diabetes pedigree function    0\n",
      "Age                           0\n",
      "Class                         0\n",
      "dtype: int64\n"
     ]
    }
   ],
   "source": [
    "import pandas as pd\n",
    "import numpy as np\n",
    "\n",
    "# Load the diabetes dataset\n",
    "df = pd.read_csv(\"diabetes.csv\")\n",
    "\n",
    "# Replace zero values with NaN for relevant attributes\n",
    "attributes_to_impute = [\"Glucose\", \"BloodPressure\", \"SkinThickness\", \"Insulin\", \"BMI\"]\n",
    "df[attributes_to_impute] = df[attributes_to_impute].replace(0, np.nan)\n",
    "\n",
    "# Impute missing values with the mean\n",
    "df.fillna(df.mean(), inplace=True)\n",
    "\n",
    "# Verify that missing values are handled\n",
    "print(df.isnull().sum())"
   ]
  },
  {
   "cell_type": "code",
   "execution_count": null,
   "id": "329cc17b-8f41-472d-9005-6ea83a66e79f",
   "metadata": {},
   "outputs": [],
   "source": []
  },
  {
   "cell_type": "code",
   "execution_count": 31,
   "id": "71dcfeea-6f61-401e-9fb9-85ee7c203504",
   "metadata": {},
   "outputs": [
    {
     "name": "stdout",
     "output_type": "stream",
     "text": [
      "Number of times pregnant      0\n",
      "Glucose                       0\n",
      "BloodPressure                 0\n",
      "SkinThickness                 0\n",
      "Insulin                       0\n",
      "BMI                           0\n",
      "Diabetes pedigree function    0\n",
      "Age                           0\n",
      "Class                         0\n",
      "dtype: int64\n"
     ]
    }
   ],
   "source": [
    "import pandas as pd\n",
    "import numpy as np\n",
    "from sklearn.linear_model import LinearRegression\n",
    "from sklearn.impute import SimpleImputer\n",
    "\n",
    "# Load the diabetes dataset\n",
    "df = pd.read_csv(\"diabetes.csv\")\n",
    "\n",
    "# Assume 'Insulin' is our dependent variable with missing values\n",
    "# Other attributes (e.g., Glucose, BMI) are predictors\n",
    "predictors = [\"Glucose\", \"BMI\"]\n",
    "\n",
    "# Create a subset with complete data for predictors\n",
    "df_complete = df.dropna(subset=predictors)\n",
    "\n",
    "# Fit a linear regression model to predict 'Insulin' using predictors\n",
    "regressor = LinearRegression()\n",
    "regressor.fit(df_complete[predictors], df_complete[\"Insulin\"])\n",
    "\n",
    "# Impute missing 'Insulin' values using the regression model\n",
    "imputer = SimpleImputer(strategy=\"mean\")\n",
    "df[\"Insulin\"] = imputer.fit_transform(df[predictors])\n",
    "\n",
    "# Verify that missing values are handled\n",
    "print(df.isnull().sum())\n"
   ]
  },
  {
   "cell_type": "code",
   "execution_count": null,
   "id": "56fc649d-7b7b-42d8-a142-e3ea069e0535",
   "metadata": {},
   "outputs": [],
   "source": [
    "\n"
   ]
  },
  {
   "cell_type": "code",
   "execution_count": 42,
   "id": "cc971b02-6654-435d-9690-87f638331b7a",
   "metadata": {},
   "outputs": [
    {
     "ename": "ValueError",
     "evalue": "Found array with 0 sample(s) (shape=(0, 2)) while a minimum of 1 is required by LinearRegression.",
     "output_type": "error",
     "traceback": [
      "\u001b[0;31m---------------------------------------------------------------------------\u001b[0m",
      "\u001b[0;31mValueError\u001b[0m                                Traceback (most recent call last)",
      "Cell \u001b[0;32mIn[42], line 30\u001b[0m\n\u001b[1;32m     27\u001b[0m regressor\u001b[38;5;241m.\u001b[39mfit(X_train, y_train)\n\u001b[1;32m     29\u001b[0m \u001b[38;5;66;03m# Predict missing 'Glucose' values\u001b[39;00m\n\u001b[0;32m---> 30\u001b[0m df\u001b[38;5;241m.\u001b[39mloc[df[\u001b[38;5;124m'\u001b[39m\u001b[38;5;124mGlucose\u001b[39m\u001b[38;5;124m'\u001b[39m]\u001b[38;5;241m.\u001b[39misnull(), \u001b[38;5;124m'\u001b[39m\u001b[38;5;124mGlucose\u001b[39m\u001b[38;5;124m'\u001b[39m] \u001b[38;5;241m=\u001b[39m regressor\u001b[38;5;241m.\u001b[39mpredict(df[df[\u001b[38;5;124m'\u001b[39m\u001b[38;5;124mGlucose\u001b[39m\u001b[38;5;124m'\u001b[39m]\u001b[38;5;241m.\u001b[39misnull()][[\u001b[38;5;124m'\u001b[39m\u001b[38;5;124mBloodPressure\u001b[39m\u001b[38;5;124m'\u001b[39m, \u001b[38;5;124m'\u001b[39m\u001b[38;5;124mBMI\u001b[39m\u001b[38;5;124m'\u001b[39m]])\n\u001b[1;32m     32\u001b[0m \u001b[38;5;66;03m# Compare imputed values with randomly imputed values\u001b[39;00m\n\u001b[1;32m     33\u001b[0m \u001b[38;5;66;03m# For demonstration, let's randomly impute missing 'Glucose' values\u001b[39;00m\n\u001b[1;32m     34\u001b[0m df_random_imputed \u001b[38;5;241m=\u001b[39m df\u001b[38;5;241m.\u001b[39mcopy()\n",
      "File \u001b[0;32m~/anaconda3/lib/python3.11/site-packages/sklearn/linear_model/_base.py:354\u001b[0m, in \u001b[0;36mLinearModel.predict\u001b[0;34m(self, X)\u001b[0m\n\u001b[1;32m    340\u001b[0m \u001b[38;5;28;01mdef\u001b[39;00m \u001b[38;5;21mpredict\u001b[39m(\u001b[38;5;28mself\u001b[39m, X):\n\u001b[1;32m    341\u001b[0m \u001b[38;5;250m    \u001b[39m\u001b[38;5;124;03m\"\"\"\u001b[39;00m\n\u001b[1;32m    342\u001b[0m \u001b[38;5;124;03m    Predict using the linear model.\u001b[39;00m\n\u001b[1;32m    343\u001b[0m \n\u001b[0;32m   (...)\u001b[0m\n\u001b[1;32m    352\u001b[0m \u001b[38;5;124;03m        Returns predicted values.\u001b[39;00m\n\u001b[1;32m    353\u001b[0m \u001b[38;5;124;03m    \"\"\"\u001b[39;00m\n\u001b[0;32m--> 354\u001b[0m     \u001b[38;5;28;01mreturn\u001b[39;00m \u001b[38;5;28mself\u001b[39m\u001b[38;5;241m.\u001b[39m_decision_function(X)\n",
      "File \u001b[0;32m~/anaconda3/lib/python3.11/site-packages/sklearn/linear_model/_base.py:337\u001b[0m, in \u001b[0;36mLinearModel._decision_function\u001b[0;34m(self, X)\u001b[0m\n\u001b[1;32m    334\u001b[0m \u001b[38;5;28;01mdef\u001b[39;00m \u001b[38;5;21m_decision_function\u001b[39m(\u001b[38;5;28mself\u001b[39m, X):\n\u001b[1;32m    335\u001b[0m     check_is_fitted(\u001b[38;5;28mself\u001b[39m)\n\u001b[0;32m--> 337\u001b[0m     X \u001b[38;5;241m=\u001b[39m \u001b[38;5;28mself\u001b[39m\u001b[38;5;241m.\u001b[39m_validate_data(X, accept_sparse\u001b[38;5;241m=\u001b[39m[\u001b[38;5;124m\"\u001b[39m\u001b[38;5;124mcsr\u001b[39m\u001b[38;5;124m\"\u001b[39m, \u001b[38;5;124m\"\u001b[39m\u001b[38;5;124mcsc\u001b[39m\u001b[38;5;124m\"\u001b[39m, \u001b[38;5;124m\"\u001b[39m\u001b[38;5;124mcoo\u001b[39m\u001b[38;5;124m\"\u001b[39m], reset\u001b[38;5;241m=\u001b[39m\u001b[38;5;28;01mFalse\u001b[39;00m)\n\u001b[1;32m    338\u001b[0m     \u001b[38;5;28;01mreturn\u001b[39;00m safe_sparse_dot(X, \u001b[38;5;28mself\u001b[39m\u001b[38;5;241m.\u001b[39mcoef_\u001b[38;5;241m.\u001b[39mT, dense_output\u001b[38;5;241m=\u001b[39m\u001b[38;5;28;01mTrue\u001b[39;00m) \u001b[38;5;241m+\u001b[39m \u001b[38;5;28mself\u001b[39m\u001b[38;5;241m.\u001b[39mintercept_\n",
      "File \u001b[0;32m~/anaconda3/lib/python3.11/site-packages/sklearn/base.py:565\u001b[0m, in \u001b[0;36mBaseEstimator._validate_data\u001b[0;34m(self, X, y, reset, validate_separately, **check_params)\u001b[0m\n\u001b[1;32m    563\u001b[0m     \u001b[38;5;28;01mraise\u001b[39;00m \u001b[38;5;167;01mValueError\u001b[39;00m(\u001b[38;5;124m\"\u001b[39m\u001b[38;5;124mValidation should be done on X, y or both.\u001b[39m\u001b[38;5;124m\"\u001b[39m)\n\u001b[1;32m    564\u001b[0m \u001b[38;5;28;01melif\u001b[39;00m \u001b[38;5;129;01mnot\u001b[39;00m no_val_X \u001b[38;5;129;01mand\u001b[39;00m no_val_y:\n\u001b[0;32m--> 565\u001b[0m     X \u001b[38;5;241m=\u001b[39m check_array(X, input_name\u001b[38;5;241m=\u001b[39m\u001b[38;5;124m\"\u001b[39m\u001b[38;5;124mX\u001b[39m\u001b[38;5;124m\"\u001b[39m, \u001b[38;5;241m*\u001b[39m\u001b[38;5;241m*\u001b[39mcheck_params)\n\u001b[1;32m    566\u001b[0m     out \u001b[38;5;241m=\u001b[39m X\n\u001b[1;32m    567\u001b[0m \u001b[38;5;28;01melif\u001b[39;00m no_val_X \u001b[38;5;129;01mand\u001b[39;00m \u001b[38;5;129;01mnot\u001b[39;00m no_val_y:\n",
      "File \u001b[0;32m~/anaconda3/lib/python3.11/site-packages/sklearn/utils/validation.py:931\u001b[0m, in \u001b[0;36mcheck_array\u001b[0;34m(array, accept_sparse, accept_large_sparse, dtype, order, copy, force_all_finite, ensure_2d, allow_nd, ensure_min_samples, ensure_min_features, estimator, input_name)\u001b[0m\n\u001b[1;32m    929\u001b[0m     n_samples \u001b[38;5;241m=\u001b[39m _num_samples(array)\n\u001b[1;32m    930\u001b[0m     \u001b[38;5;28;01mif\u001b[39;00m n_samples \u001b[38;5;241m<\u001b[39m ensure_min_samples:\n\u001b[0;32m--> 931\u001b[0m         \u001b[38;5;28;01mraise\u001b[39;00m \u001b[38;5;167;01mValueError\u001b[39;00m(\n\u001b[1;32m    932\u001b[0m             \u001b[38;5;124m\"\u001b[39m\u001b[38;5;124mFound array with \u001b[39m\u001b[38;5;132;01m%d\u001b[39;00m\u001b[38;5;124m sample(s) (shape=\u001b[39m\u001b[38;5;132;01m%s\u001b[39;00m\u001b[38;5;124m) while a\u001b[39m\u001b[38;5;124m\"\u001b[39m\n\u001b[1;32m    933\u001b[0m             \u001b[38;5;124m\"\u001b[39m\u001b[38;5;124m minimum of \u001b[39m\u001b[38;5;132;01m%d\u001b[39;00m\u001b[38;5;124m is required\u001b[39m\u001b[38;5;132;01m%s\u001b[39;00m\u001b[38;5;124m.\u001b[39m\u001b[38;5;124m\"\u001b[39m\n\u001b[1;32m    934\u001b[0m             \u001b[38;5;241m%\u001b[39m (n_samples, array\u001b[38;5;241m.\u001b[39mshape, ensure_min_samples, context)\n\u001b[1;32m    935\u001b[0m         )\n\u001b[1;32m    937\u001b[0m \u001b[38;5;28;01mif\u001b[39;00m ensure_min_features \u001b[38;5;241m>\u001b[39m \u001b[38;5;241m0\u001b[39m \u001b[38;5;129;01mand\u001b[39;00m array\u001b[38;5;241m.\u001b[39mndim \u001b[38;5;241m==\u001b[39m \u001b[38;5;241m2\u001b[39m:\n\u001b[1;32m    938\u001b[0m     n_features \u001b[38;5;241m=\u001b[39m array\u001b[38;5;241m.\u001b[39mshape[\u001b[38;5;241m1\u001b[39m]\n",
      "\u001b[0;31mValueError\u001b[0m: Found array with 0 sample(s) (shape=(0, 2)) while a minimum of 1 is required by LinearRegression."
     ]
    }
   ],
   "source": [
    "# Create a copy of the dataset for imputation\n",
    "import pandas as pd\n",
    "import numpy as np\n",
    "import matplotlib.pyplot as plt\n",
    "import seaborn as sns\n",
    "from sklearn.linear_model import LinearRegression\n",
    "from sklearn.model_selection import train_test_split\n",
    "\n",
    "# Load the diabetes dataset\n",
    "df = pd.read_csv(\"diabetes.csv\")\n",
    "\n",
    "# Assume 'Glucose' has missing values\n",
    "# First, handle missing data in predictors (e.g., 'BloodPressure', 'BMI', etc.)\n",
    "df['BloodPressure'].fillna(df['BloodPressure'].mean(), inplace=True)\n",
    "df['BMI'].fillna(df['BMI'].mean(), inplace=True)\n",
    "\n",
    "# Create a subset of data with non-missing 'Glucose' values\n",
    "df_non_missing_glucose = df.dropna(subset=['Glucose'])\n",
    "\n",
    "# Split data into train and test sets\n",
    "X = df_non_missing_glucose[['BloodPressure', 'BMI']]\n",
    "y = df_non_missing_glucose['Glucose']\n",
    "X_train, X_test, y_train, y_test = train_test_split(X, y, test_size=0.2, random_state=42)\n",
    "\n",
    "# Train a linear regression model\n",
    "regressor = LinearRegression()\n",
    "regressor.fit(X_train, y_train)\n",
    "\n",
    "# Predict missing 'Glucose' values\n",
    "df.loc[df['Glucose'].isnull(), 'Glucose'] = regressor.predict(df[df['Glucose'].isnull()][['BloodPressure', 'BMI']])\n",
    "\n",
    "# Compare imputed values with randomly imputed values\n",
    "# For demonstration, let's randomly impute missing 'Glucose' values\n",
    "df_random_imputed = df.copy()\n",
    "df_random_imputed.loc[df_random_imputed['Glucose'].isnull(), 'Glucose'] = np.random.choice(y, size=df_random_imputed['Glucose'].isnull().sum())\n",
    "\n",
    "# Visualization: Compare histograms\n",
    "plt.figure(figsize=(10, 6))\n",
    "plt.subplot(2, 1, 1)\n",
    "sns.histplot(df_non_missing_glucose['Glucose'], kde=True, color='blue', label='Original Data')\n",
    "sns.histplot(df['Glucose'], kde=True, color='orange', label='Regression Imputed')\n",
    "plt.title(\"Distribution of Glucose (Original vs. Regression Imputed)\")\n",
    "plt.legend()\n",
    "\n",
    "plt.subplot(2, 1, 2)\n",
    "sns.histplot(df_non_missing_glucose['Glucose'], kde=True, color='blue', label='Original Data')\n",
    "sns.histplot(df_random_imputed['Glucose'], kde=True, color='green', label='Randomly Imputed')\n",
    "plt.title(\"Distribution of Glucose (Original vs. Randomly Imputed)\")\n",
    "plt.legend()\n",
    "\n",
    "plt.tight_layout()\n",
    "plt.show()"
   ]
  },
  {
   "cell_type": "code",
   "execution_count": 35,
   "id": "f286dbb0-f8a7-4130-8f1f-64e4693d0281",
   "metadata": {},
   "outputs": [
    {
     "data": {
      "text/plain": [
       "0        0\n",
       "1        0\n",
       "2        0\n",
       "3       94\n",
       "4      168\n",
       "      ... \n",
       "763    180\n",
       "764      0\n",
       "765    112\n",
       "766      0\n",
       "767      0\n",
       "Name: Insulin, Length: 768, dtype: int64"
      ]
     },
     "execution_count": 35,
     "metadata": {},
     "output_type": "execute_result"
    }
   ],
   "source": [
    "df['Insulin']"
   ]
  },
  {
   "cell_type": "code",
   "execution_count": 50,
   "id": "155923ad-43d3-4ba7-bc84-bff6a4ad5c10",
   "metadata": {},
   "outputs": [],
   "source": [
    "import pandas as pd\n",
    "\n",
    "df = pd.read_csv(\"diabetes.csv\")"
   ]
  },
  {
   "cell_type": "code",
   "execution_count": 51,
   "id": "59f5dd23-a827-4691-969e-00574e752ebe",
   "metadata": {},
   "outputs": [
    {
     "data": {
      "text/plain": [
       "Number of times pregnant      0\n",
       "Glucose                       0\n",
       "BloodPressure                 0\n",
       "SkinThickness                 0\n",
       "Insulin                       0\n",
       "BMI                           0\n",
       "Diabetes pedigree function    0\n",
       "Age                           0\n",
       "Class                         0\n",
       "dtype: int64"
      ]
     },
     "execution_count": 51,
     "metadata": {},
     "output_type": "execute_result"
    }
   ],
   "source": [
    "df.isnull().sum()"
   ]
  },
  {
   "cell_type": "code",
   "execution_count": 52,
   "id": "86722bda-37a9-4d00-ac53-c39f2138c0c3",
   "metadata": {},
   "outputs": [
    {
     "data": {
      "text/html": [
       "<div>\n",
       "<style scoped>\n",
       "    .dataframe tbody tr th:only-of-type {\n",
       "        vertical-align: middle;\n",
       "    }\n",
       "\n",
       "    .dataframe tbody tr th {\n",
       "        vertical-align: top;\n",
       "    }\n",
       "\n",
       "    .dataframe thead th {\n",
       "        text-align: right;\n",
       "    }\n",
       "</style>\n",
       "<table border=\"1\" class=\"dataframe\">\n",
       "  <thead>\n",
       "    <tr style=\"text-align: right;\">\n",
       "      <th></th>\n",
       "      <th>Glucose</th>\n",
       "      <th>BloodPressure</th>\n",
       "      <th>SkinThickness</th>\n",
       "      <th>Insulin</th>\n",
       "      <th>BMI</th>\n",
       "      <th>Diabetes pedigree function</th>\n",
       "      <th>Age</th>\n",
       "      <th>Class</th>\n",
       "    </tr>\n",
       "  </thead>\n",
       "  <tbody>\n",
       "    <tr>\n",
       "      <th>0</th>\n",
       "      <td>148</td>\n",
       "      <td>72</td>\n",
       "      <td>35</td>\n",
       "      <td>0</td>\n",
       "      <td>33.6</td>\n",
       "      <td>0.627</td>\n",
       "      <td>50</td>\n",
       "      <td>1</td>\n",
       "    </tr>\n",
       "    <tr>\n",
       "      <th>1</th>\n",
       "      <td>85</td>\n",
       "      <td>66</td>\n",
       "      <td>29</td>\n",
       "      <td>0</td>\n",
       "      <td>26.6</td>\n",
       "      <td>0.351</td>\n",
       "      <td>31</td>\n",
       "      <td>0</td>\n",
       "    </tr>\n",
       "    <tr>\n",
       "      <th>2</th>\n",
       "      <td>183</td>\n",
       "      <td>64</td>\n",
       "      <td>0</td>\n",
       "      <td>0</td>\n",
       "      <td>23.3</td>\n",
       "      <td>0.672</td>\n",
       "      <td>32</td>\n",
       "      <td>1</td>\n",
       "    </tr>\n",
       "    <tr>\n",
       "      <th>3</th>\n",
       "      <td>89</td>\n",
       "      <td>66</td>\n",
       "      <td>23</td>\n",
       "      <td>94</td>\n",
       "      <td>28.1</td>\n",
       "      <td>0.167</td>\n",
       "      <td>21</td>\n",
       "      <td>0</td>\n",
       "    </tr>\n",
       "    <tr>\n",
       "      <th>4</th>\n",
       "      <td>137</td>\n",
       "      <td>40</td>\n",
       "      <td>35</td>\n",
       "      <td>168</td>\n",
       "      <td>43.1</td>\n",
       "      <td>2.288</td>\n",
       "      <td>33</td>\n",
       "      <td>1</td>\n",
       "    </tr>\n",
       "    <tr>\n",
       "      <th>...</th>\n",
       "      <td>...</td>\n",
       "      <td>...</td>\n",
       "      <td>...</td>\n",
       "      <td>...</td>\n",
       "      <td>...</td>\n",
       "      <td>...</td>\n",
       "      <td>...</td>\n",
       "      <td>...</td>\n",
       "    </tr>\n",
       "    <tr>\n",
       "      <th>763</th>\n",
       "      <td>101</td>\n",
       "      <td>76</td>\n",
       "      <td>48</td>\n",
       "      <td>180</td>\n",
       "      <td>32.9</td>\n",
       "      <td>0.171</td>\n",
       "      <td>63</td>\n",
       "      <td>0</td>\n",
       "    </tr>\n",
       "    <tr>\n",
       "      <th>764</th>\n",
       "      <td>122</td>\n",
       "      <td>70</td>\n",
       "      <td>27</td>\n",
       "      <td>0</td>\n",
       "      <td>36.8</td>\n",
       "      <td>0.340</td>\n",
       "      <td>27</td>\n",
       "      <td>0</td>\n",
       "    </tr>\n",
       "    <tr>\n",
       "      <th>765</th>\n",
       "      <td>121</td>\n",
       "      <td>72</td>\n",
       "      <td>23</td>\n",
       "      <td>112</td>\n",
       "      <td>26.2</td>\n",
       "      <td>0.245</td>\n",
       "      <td>30</td>\n",
       "      <td>0</td>\n",
       "    </tr>\n",
       "    <tr>\n",
       "      <th>766</th>\n",
       "      <td>126</td>\n",
       "      <td>60</td>\n",
       "      <td>0</td>\n",
       "      <td>0</td>\n",
       "      <td>30.1</td>\n",
       "      <td>0.349</td>\n",
       "      <td>47</td>\n",
       "      <td>1</td>\n",
       "    </tr>\n",
       "    <tr>\n",
       "      <th>767</th>\n",
       "      <td>93</td>\n",
       "      <td>70</td>\n",
       "      <td>31</td>\n",
       "      <td>0</td>\n",
       "      <td>30.4</td>\n",
       "      <td>0.315</td>\n",
       "      <td>23</td>\n",
       "      <td>0</td>\n",
       "    </tr>\n",
       "  </tbody>\n",
       "</table>\n",
       "<p>768 rows × 8 columns</p>\n",
       "</div>"
      ],
      "text/plain": [
       "     Glucose  BloodPressure  SkinThickness  Insulin   BMI  \\\n",
       "0        148             72             35        0  33.6   \n",
       "1         85             66             29        0  26.6   \n",
       "2        183             64              0        0  23.3   \n",
       "3         89             66             23       94  28.1   \n",
       "4        137             40             35      168  43.1   \n",
       "..       ...            ...            ...      ...   ...   \n",
       "763      101             76             48      180  32.9   \n",
       "764      122             70             27        0  36.8   \n",
       "765      121             72             23      112  26.2   \n",
       "766      126             60              0        0  30.1   \n",
       "767       93             70             31        0  30.4   \n",
       "\n",
       "     Diabetes pedigree function  Age  Class  \n",
       "0                         0.627   50      1  \n",
       "1                         0.351   31      0  \n",
       "2                         0.672   32      1  \n",
       "3                         0.167   21      0  \n",
       "4                         2.288   33      1  \n",
       "..                          ...  ...    ...  \n",
       "763                       0.171   63      0  \n",
       "764                       0.340   27      0  \n",
       "765                       0.245   30      0  \n",
       "766                       0.349   47      1  \n",
       "767                       0.315   23      0  \n",
       "\n",
       "[768 rows x 8 columns]"
      ]
     },
     "execution_count": 52,
     "metadata": {},
     "output_type": "execute_result"
    }
   ],
   "source": [
    "x=df.drop(columns='Number of times pregnant')\n",
    "x"
   ]
  },
  {
   "cell_type": "code",
   "execution_count": 54,
   "id": "2c7c0641-ad8e-4ce4-9ea9-e1f3bdb2b944",
   "metadata": {},
   "outputs": [
    {
     "data": {
      "text/plain": [
       "0       6\n",
       "1       1\n",
       "2       8\n",
       "3       1\n",
       "4       0\n",
       "       ..\n",
       "763    10\n",
       "764     2\n",
       "765     5\n",
       "766     1\n",
       "767     1\n",
       "Name: Number of times pregnant, Length: 768, dtype: int64"
      ]
     },
     "execution_count": 54,
     "metadata": {},
     "output_type": "execute_result"
    }
   ],
   "source": [
    "y=df[\"Number of times pregnant\"]\n",
    "y"
   ]
  },
  {
   "cell_type": "code",
   "execution_count": 56,
   "id": "edbbd9a6-a116-4ba6-9adb-350a89f3ed48",
   "metadata": {},
   "outputs": [],
   "source": [
    "from sklearn.model_selection import train_test_split\n",
    "x_train,x_test,y_train,y_test=train_test_split(x,y,test_size=0.4,random_state=23)"
   ]
  },
  {
   "cell_type": "code",
   "execution_count": 58,
   "id": "3fd096e3-55db-42f5-99ee-eb7f3e6e68bf",
   "metadata": {},
   "outputs": [],
   "source": [
    "from sklearn.linear_model import LinearRegression\n",
    "lr= LinearRegression()"
   ]
  },
  {
   "cell_type": "code",
   "execution_count": 60,
   "id": "00e14c86-2e4a-4d54-8276-2bc32e144c8f",
   "metadata": {},
   "outputs": [
    {
     "data": {
      "text/html": [
       "<style>#sk-container-id-2 {color: black;background-color: white;}#sk-container-id-2 pre{padding: 0;}#sk-container-id-2 div.sk-toggleable {background-color: white;}#sk-container-id-2 label.sk-toggleable__label {cursor: pointer;display: block;width: 100%;margin-bottom: 0;padding: 0.3em;box-sizing: border-box;text-align: center;}#sk-container-id-2 label.sk-toggleable__label-arrow:before {content: \"▸\";float: left;margin-right: 0.25em;color: #696969;}#sk-container-id-2 label.sk-toggleable__label-arrow:hover:before {color: black;}#sk-container-id-2 div.sk-estimator:hover label.sk-toggleable__label-arrow:before {color: black;}#sk-container-id-2 div.sk-toggleable__content {max-height: 0;max-width: 0;overflow: hidden;text-align: left;background-color: #f0f8ff;}#sk-container-id-2 div.sk-toggleable__content pre {margin: 0.2em;color: black;border-radius: 0.25em;background-color: #f0f8ff;}#sk-container-id-2 input.sk-toggleable__control:checked~div.sk-toggleable__content {max-height: 200px;max-width: 100%;overflow: auto;}#sk-container-id-2 input.sk-toggleable__control:checked~label.sk-toggleable__label-arrow:before {content: \"▾\";}#sk-container-id-2 div.sk-estimator input.sk-toggleable__control:checked~label.sk-toggleable__label {background-color: #d4ebff;}#sk-container-id-2 div.sk-label input.sk-toggleable__control:checked~label.sk-toggleable__label {background-color: #d4ebff;}#sk-container-id-2 input.sk-hidden--visually {border: 0;clip: rect(1px 1px 1px 1px);clip: rect(1px, 1px, 1px, 1px);height: 1px;margin: -1px;overflow: hidden;padding: 0;position: absolute;width: 1px;}#sk-container-id-2 div.sk-estimator {font-family: monospace;background-color: #f0f8ff;border: 1px dotted black;border-radius: 0.25em;box-sizing: border-box;margin-bottom: 0.5em;}#sk-container-id-2 div.sk-estimator:hover {background-color: #d4ebff;}#sk-container-id-2 div.sk-parallel-item::after {content: \"\";width: 100%;border-bottom: 1px solid gray;flex-grow: 1;}#sk-container-id-2 div.sk-label:hover label.sk-toggleable__label {background-color: #d4ebff;}#sk-container-id-2 div.sk-serial::before {content: \"\";position: absolute;border-left: 1px solid gray;box-sizing: border-box;top: 0;bottom: 0;left: 50%;z-index: 0;}#sk-container-id-2 div.sk-serial {display: flex;flex-direction: column;align-items: center;background-color: white;padding-right: 0.2em;padding-left: 0.2em;position: relative;}#sk-container-id-2 div.sk-item {position: relative;z-index: 1;}#sk-container-id-2 div.sk-parallel {display: flex;align-items: stretch;justify-content: center;background-color: white;position: relative;}#sk-container-id-2 div.sk-item::before, #sk-container-id-2 div.sk-parallel-item::before {content: \"\";position: absolute;border-left: 1px solid gray;box-sizing: border-box;top: 0;bottom: 0;left: 50%;z-index: -1;}#sk-container-id-2 div.sk-parallel-item {display: flex;flex-direction: column;z-index: 1;position: relative;background-color: white;}#sk-container-id-2 div.sk-parallel-item:first-child::after {align-self: flex-end;width: 50%;}#sk-container-id-2 div.sk-parallel-item:last-child::after {align-self: flex-start;width: 50%;}#sk-container-id-2 div.sk-parallel-item:only-child::after {width: 0;}#sk-container-id-2 div.sk-dashed-wrapped {border: 1px dashed gray;margin: 0 0.4em 0.5em 0.4em;box-sizing: border-box;padding-bottom: 0.4em;background-color: white;}#sk-container-id-2 div.sk-label label {font-family: monospace;font-weight: bold;display: inline-block;line-height: 1.2em;}#sk-container-id-2 div.sk-label-container {text-align: center;}#sk-container-id-2 div.sk-container {/* jupyter's `normalize.less` sets `[hidden] { display: none; }` but bootstrap.min.css set `[hidden] { display: none !important; }` so we also need the `!important` here to be able to override the default hidden behavior on the sphinx rendered scikit-learn.org. See: https://github.com/scikit-learn/scikit-learn/issues/21755 */display: inline-block !important;position: relative;}#sk-container-id-2 div.sk-text-repr-fallback {display: none;}</style><div id=\"sk-container-id-2\" class=\"sk-top-container\"><div class=\"sk-text-repr-fallback\"><pre>LinearRegression()</pre><b>In a Jupyter environment, please rerun this cell to show the HTML representation or trust the notebook. <br />On GitHub, the HTML representation is unable to render, please try loading this page with nbviewer.org.</b></div><div class=\"sk-container\" hidden><div class=\"sk-item\"><div class=\"sk-estimator sk-toggleable\"><input class=\"sk-toggleable__control sk-hidden--visually\" id=\"sk-estimator-id-2\" type=\"checkbox\" checked><label for=\"sk-estimator-id-2\" class=\"sk-toggleable__label sk-toggleable__label-arrow\">LinearRegression</label><div class=\"sk-toggleable__content\"><pre>LinearRegression()</pre></div></div></div></div></div>"
      ],
      "text/plain": [
       "LinearRegression()"
      ]
     },
     "execution_count": 60,
     "metadata": {},
     "output_type": "execute_result"
    }
   ],
   "source": [
    "lr.fit(x_train,y_train)"
   ]
  },
  {
   "cell_type": "code",
   "execution_count": 65,
   "id": "dbc169ff-3604-4296-9ba4-72e3a39cfc39",
   "metadata": {},
   "outputs": [],
   "source": [
    "y_pred_trials=lr.predict(x_train)"
   ]
  },
  {
   "cell_type": "code",
   "execution_count": 66,
   "id": "53ad0a0b-b4cc-47a1-b227-e6bf2752e603",
   "metadata": {},
   "outputs": [
    {
     "data": {
      "text/plain": [
       "array([ 6.20419055,  3.53162796,  2.88125943,  6.50281061,  3.11082725,\n",
       "        2.59375338,  4.32502494,  2.9512489 ,  2.87979236,  1.98737729,\n",
       "        3.48057608,  2.47232687,  7.57271696,  4.97327507,  1.87025322,\n",
       "        1.87497909,  2.40433764,  2.42635986,  5.37796756,  2.51811981,\n",
       "        2.24454917,  4.6890935 ,  1.39804092,  4.37083764,  3.23675289,\n",
       "        4.98873784,  1.93201677,  5.49744729,  2.06640876,  3.0710184 ,\n",
       "        2.37801247,  4.41795702,  4.79055431,  4.64959629,  3.32854975,\n",
       "        6.57195758,  1.33692288,  5.81458232,  2.92308756,  2.67789556,\n",
       "        4.76196155,  4.41516482,  2.81921784,  4.45314016,  2.83276693,\n",
       "        1.76396694,  1.13736791,  2.29949945,  5.84731055,  2.37377084,\n",
       "        3.61499217,  3.60842512,  6.0768775 ,  3.41810814,  2.94548477,\n",
       "        2.36807119,  4.54304788,  8.50672289,  8.30212266,  2.42087689,\n",
       "        4.35219772,  4.9487131 ,  5.47817444,  2.43585418,  2.8578733 ,\n",
       "        5.70826731,  3.34470067,  2.18882243,  9.05073715,  4.23865447,\n",
       "        3.12814859,  4.16820546,  5.79156581,  6.21056118,  4.76810449,\n",
       "        3.0934157 ,  2.95790652,  3.25290845,  2.73085818,  4.5957593 ,\n",
       "        5.8191313 ,  1.65249171,  5.09241677,  2.45176057,  3.88361788,\n",
       "        4.44019718,  8.20225616,  8.1030064 ,  2.86536174,  3.86255277,\n",
       "        3.50391901,  4.76056836,  3.75899   ,  7.75741373,  2.45605659,\n",
       "        4.36408876,  2.20631669,  2.1616321 ,  3.6598594 ,  3.88783665,\n",
       "        2.65786656,  2.36600866,  3.25476475,  6.58636145,  3.33956749,\n",
       "        3.93575433,  3.20360861,  5.15079263,  6.39076548,  2.89334786,\n",
       "        1.95598955,  5.73429719,  2.11285476,  2.4350592 ,  2.57541272,\n",
       "        5.17631872,  2.24396582,  2.04558224,  8.05925698,  5.6127779 ,\n",
       "        5.66847536,  2.35654987,  1.98853504,  4.2960337 ,  2.32432025,\n",
       "        3.66650977,  8.63744439,  2.24406808,  3.662619  ,  3.78530925,\n",
       "        2.89546876,  2.67857734,  4.66846571,  3.70707913,  2.29823817,\n",
       "        4.77338626,  9.16993126,  3.12357762,  4.40892729,  4.4671737 ,\n",
       "        3.714396  ,  2.45468213,  1.55170026,  1.6691985 ,  4.59365358,\n",
       "        3.96680227,  2.19749229,  2.19232959,  6.32029466,  3.14903687,\n",
       "        6.61809322,  7.19343765,  2.26733109,  3.20049178,  6.88211157,\n",
       "        7.03495472,  4.06929258,  4.81608815,  3.17960143,  1.97245258,\n",
       "        3.60180571,  5.8118767 ,  6.51767649,  1.76015527,  4.39817982,\n",
       "        1.75193102,  3.24772475,  4.80950543,  4.40590374,  2.63046066,\n",
       "        2.66874043,  2.70718327,  7.1069128 ,  2.72005772,  9.38065783,\n",
       "        2.3441271 ,  3.67574636,  2.94492665,  7.40312438,  5.90969363,\n",
       "        3.6534791 ,  4.12829963,  4.20863317,  3.1865217 ,  5.73037904,\n",
       "        2.84263953,  7.26442017,  4.19473198,  5.87043393,  8.51035561,\n",
       "        2.55662994,  3.47566214,  5.17125617,  2.52903833,  5.28042238,\n",
       "        5.03291388,  2.38549589,  4.89632227,  2.95180707,  2.79002822,\n",
       "        2.23278381,  3.29155313,  2.11195238,  2.39510401,  5.40029941,\n",
       "        4.9228705 ,  8.99685086,  1.66011914,  3.36821799,  6.27147341,\n",
       "        3.0116046 ,  4.54599117,  3.03379495,  2.57664333,  5.38135736,\n",
       "        3.62818628,  2.86372693,  5.73738203,  3.69884413,  4.42443722,\n",
       "        3.44549763,  3.40604635,  1.91744618,  4.48460797,  5.31043531,\n",
       "        3.07086543,  3.11206683,  1.93260371,  8.44577595,  1.94809853,\n",
       "        1.84905752,  4.65669018,  2.52780983,  4.70638783,  2.01825305,\n",
       "        2.31423583,  3.19770516,  1.82494652,  3.58293139,  2.63944536,\n",
       "        2.35807758,  7.20971866,  2.25977883,  2.35217759,  2.76382546,\n",
       "        2.99962309,  1.44317943,  5.35439302,  4.05453174,  2.15649963,\n",
       "        4.49959429,  2.3110492 ,  2.12393864,  4.28980274,  2.04733576,\n",
       "        5.63660196,  2.09417088,  4.11404212,  2.21349475,  3.39557809,\n",
       "        7.73402921,  2.14645087,  2.40299533,  2.50988178,  2.18139972,\n",
       "        2.72706921,  5.49973663,  4.74293515,  2.06998557,  2.24982213,\n",
       "        3.86185746,  5.86528763,  2.26699356,  1.96189738,  1.26843203,\n",
       "        3.2349912 ,  2.49192901,  2.6596301 ,  3.12834637,  8.47720995,\n",
       "        1.80441168,  2.24017711,  6.48612447,  4.14883264,  2.20712251,\n",
       "        3.77336315,  1.2218695 ,  4.11628681,  2.49177614,  4.28695909,\n",
       "        3.42242633,  7.50554578,  2.36701525,  2.39411313,  5.84274893,\n",
       "        3.15226078,  5.90598175,  7.09110112,  1.47292277,  6.20992836,\n",
       "        5.51636468,  3.29308425,  2.64511873,  6.28917408,  3.79680575,\n",
       "        2.58818047,  8.32130171,  2.84451794,  2.80370664,  6.02470207,\n",
       "        5.03189339,  2.35859496,  2.4765517 ,  4.22121199,  2.73020677,\n",
       "        3.3445272 ,  2.72274582,  2.48978149,  2.14047226,  2.93190311,\n",
       "        4.4585537 ,  2.43870107,  1.81810332,  3.1424375 ,  2.915389  ,\n",
       "        2.44299936,  5.36339862,  6.95344111,  2.05268248,  4.6499921 ,\n",
       "        4.23332621,  2.71905675,  2.83450077,  2.99472764,  7.3244176 ,\n",
       "        7.2773231 ,  7.63122367,  2.89152675,  2.00731791,  4.12472548,\n",
       "        3.65834173,  1.77431576,  4.73926108,  5.74030816,  4.53549913,\n",
       "        5.62087036,  2.93074114,  2.47560736,  3.09099446,  6.46917955,\n",
       "        6.47888915,  2.54271533,  2.21709553,  2.60451169,  3.91761396,\n",
       "        1.19768883,  5.75868535,  3.06931227,  2.48442327,  6.93249615,\n",
       "        1.87509414,  3.27671385,  2.46464791,  6.40603161,  3.5041614 ,\n",
       "        1.85659958,  2.35859095,  6.23203038,  3.69753978,  1.47708482,\n",
       "        2.93011548,  5.89639648,  1.97429233,  2.48807946,  3.88234335,\n",
       "        4.39004284,  4.38160541,  2.25466931,  2.24307462,  6.07374967,\n",
       "        2.93656939,  5.86867583,  2.891098  ,  2.34267109,  1.87297457,\n",
       "        6.83696393,  2.02194798,  2.82977279,  3.51911086,  2.15763783,\n",
       "        2.56686236,  2.79685138,  1.0282662 ,  2.50450911,  7.0161946 ,\n",
       "        2.83802772,  2.75158788,  6.91334853,  3.36425833,  7.96218745,\n",
       "        4.35368274,  2.15826629,  5.61930853,  7.15976277,  2.05163932,\n",
       "        3.13137072,  1.97708333,  2.32033558,  5.00605969,  6.66212808,\n",
       "        4.11269129,  2.79084265,  3.61284172,  1.58836124,  3.62270097,\n",
       "        3.66684333,  5.11937004,  4.26950965,  2.96406188,  2.14006648,\n",
       "        5.18382656,  8.25515745,  4.56575196,  2.78832684,  4.89734217,\n",
       "        2.65381021,  4.82841431,  3.97414041,  3.82103676,  2.72580826,\n",
       "        5.99315778,  2.27798848,  3.88900391,  4.96843697,  4.57186217,\n",
       "        2.6089235 ,  2.30829078,  2.15917378,  7.77218273,  2.98581391,\n",
       "        6.41190817,  5.09357835,  2.56361195, 10.20005949,  4.31566137,\n",
       "        2.62295718,  2.72596629,  5.80711628,  3.42934074,  2.38930188,\n",
       "        3.61599916,  6.41366544,  2.24318045,  5.60215468,  2.96202275,\n",
       "        3.13121437,  3.27729269,  2.70140523,  2.17479354,  2.68143001])"
      ]
     },
     "execution_count": 66,
     "metadata": {},
     "output_type": "execute_result"
    }
   ],
   "source": [
    "import matplotlib.pyplot as plt\n",
    "plt.scatter(y_train,y_pred_trials)"
   ]
  },
  {
   "cell_type": "code",
   "execution_count": null,
   "id": "f37a1c3c-23ae-4d04-bae8-19435aab6434",
   "metadata": {},
   "outputs": [],
   "source": []
  }
 ],
 "metadata": {
  "kernelspec": {
   "display_name": "Python 3 (ipykernel)",
   "language": "python",
   "name": "python3"
  },
  "language_info": {
   "codemirror_mode": {
    "name": "ipython",
    "version": 3
   },
   "file_extension": ".py",
   "mimetype": "text/x-python",
   "name": "python",
   "nbconvert_exporter": "python",
   "pygments_lexer": "ipython3",
   "version": "3.11.7"
  }
 },
 "nbformat": 4,
 "nbformat_minor": 5
}
